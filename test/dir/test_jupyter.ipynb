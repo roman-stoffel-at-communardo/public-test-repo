{
 "cells": [
  {
   "cell_type": "markdown",
   "id": "7abea89a-b080-4ae6-a0af-1256e9b10f8b",
   "metadata": {},
   "source": [
    "## test"
   ]
  },
  {
   "cell_type": "markdown",
   "id": "60176b7b-d573-4c4a-9d7d-c7957ffae10d",
   "metadata": {},
   "source": [
    "### 英語"
   ]
  },
  {
   "cell_type": "code",
   "execution_count": 1,
   "id": "ae14d11d-04a4-463f-a859-f67dc463104d",
   "metadata": {},
   "outputs": [
    {
     "name": "stdout",
     "output_type": "stream",
     "text": [
      "hello\n"
     ]
    }
   ],
   "source": [
    "print('hello')"
   ]
  },
  {
   "cell_type": "markdown",
   "id": "6ab384e3-50cd-46f0-978a-3daf66aad977",
   "metadata": {},
   "source": [
    "### 日本語"
   ]
  },
  {
   "cell_type": "code",
   "execution_count": 2,
   "id": "534adc0c-c52c-435e-bb2f-f07ac1a2abaf",
   "metadata": {},
   "outputs": [
    {
     "name": "stdout",
     "output_type": "stream",
     "text": [
      "こんにちは\n"
     ]
    }
   ],
   "source": [
    "print('こんにちは')"
   ]
  }
 ],
 "metadata": {
  "kernelspec": {
   "display_name": "Python 3 (ipykernel)",
   "language": "python",
   "name": "python3"
  },
  "language_info": {
   "codemirror_mode": {
    "name": "ipython",
    "version": 3
   },
   "file_extension": ".py",
   "mimetype": "text/x-python",
   "name": "python",
   "nbconvert_exporter": "python",
   "pygments_lexer": "ipython3",
   "version": "3.11.6"
  }
 },
 "nbformat": 4,
 "nbformat_minor": 5
}
